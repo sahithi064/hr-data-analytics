{
  "cells": [
    {
      "cell_type": "markdown",
      "metadata": {
        "id": "view-in-github",
        "colab_type": "text"
      },
      "source": [
        "<a href=\"https://colab.research.google.com/github/sahithi064/hr-data-analytics/blob/main/Copy_of_Untitled0_(2).ipynb\" target=\"_parent\"><img src=\"https://colab.research.google.com/assets/colab-badge.svg\" alt=\"Open In Colab\"/></a>"
      ]
    },
    {
      "cell_type": "markdown",
      "metadata": {
        "id": "xqGKx_8sKTeT"
      },
      "source": []
    },
    {
      "cell_type": "code",
      "execution_count": null,
      "metadata": {
        "id": "J3g6EQsDI6zL"
      },
      "outputs": [],
      "source": [
        "import pandas as pd\n",
        "import numpy as np\n"
      ]
    },
    {
      "cell_type": "code",
      "execution_count": null,
      "metadata": {
        "id": "V_wn_TqLJh2Q"
      },
      "outputs": [],
      "source": [
        "from google.colab import files\n"
      ]
    },
    {
      "cell_type": "code",
      "execution_count": null,
      "metadata": {
        "id": "FcTi8cmIKP2J"
      },
      "outputs": [],
      "source": [
        "df=pd.read_excel('')\n",
        "df.head()"
      ]
    },
    {
      "cell_type": "code",
      "execution_count": null,
      "metadata": {
        "id": "sYnvZV7R5uoI"
      },
      "outputs": [],
      "source": [
        "df.isnull().sum()"
      ]
    },
    {
      "cell_type": "code",
      "execution_count": null,
      "metadata": {
        "id": "Ao2b89kGNRHj"
      },
      "outputs": [],
      "source": [
        "mean=df.mean()\n",
        "mean\n"
      ]
    },
    {
      "cell_type": "code",
      "execution_count": null,
      "metadata": {
        "id": "ZWPe1qDtOJqA"
      },
      "outputs": [],
      "source": [
        "df1=df.describe()\n",
        "df1\n"
      ]
    },
    {
      "cell_type": "code",
      "execution_count": null,
      "metadata": {
        "id": "JOw6f7FeDqDp"
      },
      "outputs": [],
      "source": [
        "df.info()"
      ]
    },
    {
      "cell_type": "code",
      "execution_count": null,
      "metadata": {
        "id": "-WH6d3WaZKBv"
      },
      "outputs": [],
      "source": [
        "df.isnull()"
      ]
    },
    {
      "cell_type": "code",
      "execution_count": null,
      "metadata": {
        "id": "u5Sm5aqrZP62"
      },
      "outputs": [],
      "source": [
        "df.describe()"
      ]
    },
    {
      "cell_type": "code",
      "execution_count": null,
      "metadata": {
        "id": "5WYnlvbtZTJ0"
      },
      "outputs": [],
      "source": [
        "df.dtypes"
      ]
    },
    {
      "cell_type": "code",
      "execution_count": null,
      "metadata": {
        "id": "34vpkVvbZWPH"
      },
      "outputs": [],
      "source": [
        "products = ['sofas', 'convertible sofas', 'love seats', 'recliners', 'sofa beds']\n",
        "words = ['buy', 'price', 'discount', 'promotion', 'promo','shop']\n",
        "keywords_list = []\n",
        "\n",
        "for product in products:\n",
        "    for word in words:\n",
        "        keywords_list.append([product, product + ' ' + word])\n",
        "        keywords_list.append([product, word + ' ' + product])\n",
        "\n",
        "from pprint import pprint\n",
        "pprint(keywords_list)"
      ]
    },
    {
      "cell_type": "code",
      "execution_count": null,
      "metadata": {
        "id": "Fau8pqY4Zy3K"
      },
      "outputs": [],
      "source": [
        "df1 = pd.DataFrame.from_records(keywords_list)\n",
        "print(df1.head())\n",
        "print(df1.tail())"
      ]
    },
    {
      "cell_type": "code",
      "execution_count": null,
      "metadata": {
        "id": "8p95uVrCaWhU"
      },
      "outputs": [],
      "source": [
        "df.nunique()"
      ]
    },
    {
      "cell_type": "code",
      "execution_count": null,
      "metadata": {
        "id": "boGYTAhracTT"
      },
      "outputs": [],
      "source": [
        "df1.info()"
      ]
    },
    {
      "cell_type": "code",
      "execution_count": null,
      "metadata": {
        "id": "V70cWeZJamff"
      },
      "outputs": [],
      "source": [
        "df1 = df1.rename(columns={0:'Ad Group',1: 'Keyword'})"
      ]
    },
    {
      "cell_type": "code",
      "execution_count": null,
      "metadata": {
        "id": "6AZdDHWPa-dJ"
      },
      "outputs": [],
      "source": [
        "df1"
      ]
    },
    {
      "cell_type": "code",
      "execution_count": null,
      "metadata": {
        "id": "BWK5EkXcbBcZ"
      },
      "outputs": [],
      "source": [
        "\n",
        "data = df1['Ad Group'].value_counts()\n",
        "plt.pie(data, labels=data.index, autopct=\"%1.1f%%\")\n",
        "plt.title(\"Pie Chart of Ad Groups\")\n",
        "plt.show()\n"
      ]
    },
    {
      "cell_type": "code",
      "execution_count": null,
      "metadata": {
        "id": "OdkABVSKbTSW"
      },
      "outputs": [],
      "source": [
        "df1['Criterion Type'] = 'Exact'"
      ]
    },
    {
      "cell_type": "code",
      "execution_count": null,
      "metadata": {
        "id": "X7NCS1rrbZ-3"
      },
      "outputs": [],
      "source": [
        "df1['Campaign'] = 'SEM_Sofas'"
      ]
    },
    {
      "cell_type": "code",
      "execution_count": null,
      "metadata": {
        "id": "83ArNSeAbeQD"
      },
      "outputs": [],
      "source": [
        "df1\n"
      ]
    },
    {
      "cell_type": "code",
      "execution_count": null,
      "metadata": {
        "id": "rA1O0vc4bu2J"
      },
      "outputs": [],
      "source": [
        "df2 = df1.copy()\n",
        "df2['Criterion Type'] = 'Phrase'\n",
        "df3 =df1.append(df2)"
      ]
    },
    {
      "cell_type": "code",
      "execution_count": null,
      "metadata": {
        "id": "CSJ3GXOfb6po"
      },
      "outputs": [],
      "source": [
        "df3\n"
      ]
    },
    {
      "cell_type": "code",
      "execution_count": null,
      "metadata": {
        "id": "OeZMMaUbb9Hj"
      },
      "outputs": [],
      "source": [
        "df3.to_csv('keywords.csv',index=False)\n",
        "summary = df3.groupby(['Ad Group', 'Criterion Type'])['Keyword'].count()\n",
        "print(summary)"
      ]
    }
  ],
  "metadata": {
    "colab": {
      "provenance": [],
      "include_colab_link": true
    },
    "kernelspec": {
      "display_name": "Python 3",
      "name": "python3"
    },
    "language_info": {
      "name": "python"
    }
  },
  "nbformat": 4,
  "nbformat_minor": 0
}